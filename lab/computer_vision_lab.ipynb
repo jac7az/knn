{
  "cells": [
    {
      "cell_type": "markdown",
      "metadata": {
        "id": "jvWiyueWUAGj"
      },
      "source": [
        "## Computer Vision\n",
        "\n",
        "Let's do some very basic computer vision. We're going to import the MNIST handwritten digits data and $k$NN to predict values (i.e. \"see/read\").\n",
        "\n",
        "1. To load the data, the first code chunk:\n",
        " The `y_test` and `y_train` vectors, for each index `i`, tell you want number is written in the corresponding index in `X_train[i]` and `X_test[i]`. The value of `X_train[i]` and `X_test[i]`, however, is a 28$\\times$28 array whose entries contain values between 0 and 256. Each element of the matrix is essentially a \"pixel\" and the matrix encodes a representation of a number. To visualize this, run the following code to see the first ten numbers.\n",
        "\n",
        "Those are the data: Labels attached to handwritten digits encoded as a matrix.\n",
        "\n",
        "2. What is the shape of `X_train` and `X_test`? What is the shape of `X_train[i]` and `X_test[i]` for each index `i`? What is the shape of `y_train` and `y_test`?\n",
        "3. Use Numpy's `.reshape()` method to covert the training and testing data from a matrix into an vector of features. So, `X_test[index].reshape((1,784))` will convert the $index$-th element of `X_test` into a $28\\times 28=784$-length row vector of values, rather than a matrix. Turn `X_train` into an $N \\times 784$ matrix $X$ that is suitable for scikit-learn's kNN classifier where $N$ is the number of observations and $784=28*28$ (you could use, for example, a `for` loop).\n",
        "4. Use the reshaped `X_test` and `y_test` data to create a $k$-nearest neighbor classifier of digit. What is the optimal number of neighbors $k$? If you can't determine this, play around with different values of $k$ for your classifier.\n",
        "5. For the optimal number of neighbors, how well does your predictor perform on the test set? Report the accuracy, compute a confusion matrix, and explain your findings.\n",
        "6. For your confusion matrix, which mistakes are most likely? Do you find any interesting patterns?\n",
        "7. So, this is how computers \"see.\" They convert an image into a matrix of values, that matrix becomes a vector in a dataset, and then we deploy ML tools on it as if it was any other kind of tabular data. To make sure you follow this, invent a way to represent a color photo in matrix form, and then describe how you could convert it into tabular data. (Hint: RGB color codes provide a method of encoding a numeric value that represents a color.)"
      ]
    },
    {
      "cell_type": "code",
      "source": [
        "from keras.datasets import mnist\n",
        "df = mnist.load_data('minst.db')\n",
        "train,test = df\n",
        "X_train, y_train = train\n",
        "X_test, y_test = test\n",
        "\n",
        "import matplotlib.pyplot as plt\n",
        "import numpy as np\n",
        "np.set_printoptions(edgeitems=30, linewidth=100000)\n",
        "for i in range(5):\n",
        " print(y_test[i],'\\n') # Print the label\n",
        " print(X_test[i],'\\n') # Print the matrix of values\n",
        " plt.contourf(np.rot90(X_test[i].transpose())) # Make a contour plot of the matrix values\n",
        " plt.show()"
      ],
      "metadata": {
        "id": "QR0OepwWVtL6"
      },
      "execution_count": 12,
      "outputs": []
    },
    {
      "cell_type": "code",
      "source": [
        "print(\"X_train shape:\",X_train.shape,\"\\n y_train shape:\",y_train.shape,\"\\n x_test shape:\",X_test.shape,\"\\n y_test shape:\",y_test.shape)\n",
        "print(X_test[0].shape)\n",
        "print(X_train[0].shape)"
      ],
      "metadata": {
        "colab": {
          "base_uri": "https://localhost:8080/"
        },
        "id": "ctMG5p4iF2xn",
        "outputId": "4cdb610a-64ab-4089-9fa6-deea0c625fe6"
      },
      "execution_count": 38,
      "outputs": [
        {
          "output_type": "stream",
          "name": "stdout",
          "text": [
            "X_train shape: (60000, 784) \n",
            " y_train shape: (60000,) \n",
            " x_test shape: (10000, 784) \n",
            " y_test shape: (10000,)\n",
            "(784,)\n",
            "(784,)\n"
          ]
        }
      ]
    },
    {
      "cell_type": "code",
      "source": [
        "X_train_reshaped = np.zeros((X_train.shape[0], 784))\n",
        "X_test_reshaped = np.zeros((X_test.shape[0], 784))\n",
        "\n",
        "for i in range(X_train.shape[0]):\n",
        "    X_train_reshaped[i] = X_train[i].reshape((784,))\n",
        "\n",
        "for i in range(X_test.shape[0]):\n",
        "    X_test_reshaped[i] = X_test[i].reshape((784,))"
      ],
      "metadata": {
        "id": "OuCyYzssGn5g"
      },
      "execution_count": 35,
      "outputs": []
    },
    {
      "cell_type": "code",
      "source": [
        "reload = 0 # Control the way data loads\n",
        "\n",
        "if reload == 1:  # If reload is 1, do the reshaping process\n",
        "    Z_train = []\n",
        "    for i in range(60000):\n",
        "        row = X_train[i].reshape((1,784)) # Turn the matrix for i into a row vector of features\n",
        "        Z_train.append(row[0]) # Append the row vector to the list\n",
        "    Z_train = pd.DataFrame(Z_train)\n",
        "    Z_train.to_csv('./data/Z_train.csv')\n",
        "    #\n",
        "    Z_test = []\n",
        "    for i in range(len(y_test)):\n",
        "        row = X_test[i].reshape((1,784)) # Turn the matrix for i into a row vector of features\n",
        "        Z_test.append(row[0]) # Append the row vector to the list\n",
        "    Z_test = pd.DataFrame(Z_test)\n",
        "    Z_test.to_csv('./data/Z_test.csv')\n",
        "# else: # If reload is not 1, just load the reshaped data\n",
        "#     Z_train = pd.read_csv('./data/Z_train.csv')\n",
        "#     Z_test = pd.read_csv('./data/Z_test.csv')"
      ],
      "metadata": {
        "id": "cQigWaelMRPX"
      },
      "execution_count": 40,
      "outputs": []
    }
  ],
  "metadata": {
    "language_info": {
      "name": "python"
    },
    "colab": {
      "provenance": []
    },
    "kernelspec": {
      "name": "python3",
      "display_name": "Python 3"
    }
  },
  "nbformat": 4,
  "nbformat_minor": 0
}